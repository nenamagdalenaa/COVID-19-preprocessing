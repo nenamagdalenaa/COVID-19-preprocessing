{
 "cells": [
  {
   "metadata": {},
   "cell_type": "code",
   "source": [
    "import pandas as pd\n",
    "import re\n",
    "import nltk\n",
    "from nltk.corpus import stopwords\n",
    "\n",
    "# Download stopwoorden als ze nog niet gedownload zijn\n",
    "nltk.download(\"stopwords\")\n",
    "\n",
    "# Nederlandse en Engelse stopwoorden ophalen\n",
    "stop_words = set(stopwords.words(\"dutch\")) | set(stopwords.words(\"english\"))\n",
    "\n",
    "extra_words = {\"blackberry\", \"minvwsnl\", \"minvwsni\", \"ni\", \"nl\", \".ni\", \".nl\", \".com\", \"com\", \"rivmnl\", \"rivmni\", \"verzonden\", \"sent\", \"e\", \"subject\", \"cc\", \"eee\", \"si\", \"se\", \"mi\", \"xe\", \"vwsnl\", \"vwsnll\", \"eminvwsnll\", \"rivmmnl\", \"onderwerp\", \"groet\", \"met vriendelijke groet\", \"vriendelijke\", \"met\", \"groetjes\", \"eur\", \"pm\", \"am\", \"jan\", \"feb\", \"mrt\", \"apr\", \"mei\", \"jun\", \"jul\", \"jullie\", \"wel\", \"niet\", \"received\", \"graag\", \"vragen\", \"aug\", \"sep\", \"okt\", \"nov\", \"dec\", \"nvt\", \"nee\", \"ja\", \"yrs\", \"wwwblackberrycom\", \"work\", \"blackberrywork\", \"fw\", \"ok\", \"den haag\", \"bilthoven\", \"mon\", \"thu\", \"wed\", \"thu\", \"fri\", \"sat\", \"sun\", \"maandag\", \"dinsdag\", \"woensdag\", \"donderdag\", \"vrijdag\", \"zaterdag\", \"zondag\", \"januari\", \"februari\", \"maart\", \"april\", \"mei\", \"juni\", \"juli\", \"augustus\", \"september\", \"oktober\", \"november\", \"december\", \"document\", \"email\", \"emailcorrespondentie\", \"gesproken\", \"besproken\", 'email', 'emailcorrespondentie', 'brief', 'kamerbrief', 'gevraagd', 'tekst', 'concept', 'emailwisseling', 'gesproken', 'feedback', 'emailcorrespondentie', 'gesproken', 'verschillende', 'overleg', 'binnen', 'betrekking', 'agenda', 'onderwerpen', 'overleg', 'opmerkingen', 'versie', 'reactie', 'waarin', 'vraag', 'verzoek', 'suggesties', 'minister', 'aanpassingen', 'aanvullingen', 'regarding', 'discusses', 'measures', 'health', 'including', 'information', 'mentions', 'exchange', 'netherlands', 'thread', 'verslag'}\n",
    "all_stopwords = stop_words | extra_words\n",
    "\n",
    "def preprocess_text(text):\n",
    "    if pd.isna(text):\n",
    "        return \"\"\n",
    "\n",
    "    # Verwijder cijfers en speciale tekens, behoud alleen letters en spaties\n",
    "    text = re.sub(r\"[^a-zA-Z\\s]\", \"\", text)\n",
    "\n",
    "    # Zet alles om naar kleine letters\n",
    "    text = text.lower()\n",
    "\n",
    "    # Verwijder stopwoorden\n",
    "    words = text.split()\n",
    "\n",
    "    # Verwijder woorden die in de stopwoordenlijst staan en woorden met slechts één letter\n",
    "    text = \" \".join(word for word in words if word not in all_stopwords and len(word) > 1)\n",
    "\n",
    "    return text\n",
    "\n",
    "# CSV-bestand inladen\n",
    "input_file = \"/home/nena-meijer/PyCharmMiscProject/event_extraction/GEMINI_RESULTS.csv\"  # Pas dit aan naar je bestand\n",
    "output_file = \"/home/nena-meijer/PyCharmMiscProject/event_extraction/GEMINI_RESULTS_preprocessed.csv\"\n",
    "\n",
    "df = pd.read_csv(input_file)\n",
    "\n",
    "# Toepassen van preprocessing op de document_text kolom\n",
    "df[\"summary\"] = df[\"summary\"].astype(str).apply(preprocess_text)\n",
    "\n",
    "# Opslaan naar nieuw bestand\n",
    "df.to_csv(output_file, index=False)\n",
    "\n",
    "print(f\"Preprocessing voltooid. Bestand opgeslagen als {output_file}\")\n"
   ],
   "id": "8bea942e696a5ff5",
   "outputs": [],
   "execution_count": null
  }
 ],
 "metadata": {
  "kernelspec": {
   "display_name": "Python 3",
   "language": "python",
   "name": "python3"
  },
  "language_info": {
   "codemirror_mode": {
    "name": "ipython",
    "version": 2
   },
   "file_extension": ".py",
   "mimetype": "text/x-python",
   "name": "python",
   "nbconvert_exporter": "python",
   "pygments_lexer": "ipython2",
   "version": "2.7.6"
  }
 },
 "nbformat": 4,
 "nbformat_minor": 5
}
