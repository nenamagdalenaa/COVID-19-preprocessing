{
 "cells": [
  {
   "cell_type": "code",
   "id": "initial_id",
   "metadata": {
    "collapsed": true,
    "ExecuteTime": {
     "end_time": "2025-03-27T12:44:28.641386Z",
     "start_time": "2025-03-27T12:43:34.935710Z"
    }
   },
   "source": [
    "import langid\n",
    "import pandas as pd\n",
    "\n",
    "# Laad dataset\n",
    "file_path = '/home/nena-meijer/PyCharmMiscProject/dataset/VWS_subset/1-VWS_documents_text.csv'\n",
    "merged_df = pd.read_csv(file_path)\n",
    "\n",
    "# Taaldetectie per rij en toevoegen als nieuwe kolom\n",
    "merged_df['document_language'] = merged_df['document_text'].apply(\n",
    "    lambda x: langid.classify(x)[0] if isinstance(x, str) and x.strip() else 'unknown'\n",
    ")\n",
    "\n",
    "# Opslaan met de nieuwe kolom 'document_language'\n",
    "output_path = '/dataset/VWS_subset/2-VWS_documents_language.csv'\n",
    "merged_df.to_csv(output_path, index=False)\n",
    "\n",
    "print(\"CSV-bestand met 'document_language' opgeslagen als '7-VWS_documents_with_language.csv'.\")\n"
   ],
   "outputs": [
    {
     "name": "stdout",
     "output_type": "stream",
     "text": [
      "CSV-bestand met 'document_language' opgeslagen als '7-VWS_documents_with_language.csv'.\n"
     ]
    }
   ],
   "execution_count": 1
  },
  {
   "metadata": {
    "ExecuteTime": {
     "end_time": "2025-03-27T12:45:10.945306Z",
     "start_time": "2025-03-27T12:45:10.267042Z"
    }
   },
   "cell_type": "code",
   "source": [
    "import pandas as pd\n",
    "\n",
    "# Laad de dataset\n",
    "file_path = '/dataset/VWS_subset/2-VWS_documents_language.csv'\n",
    "merged_df = pd.read_csv(file_path)\n",
    "\n",
    "# Tellen van documenten per taal\n",
    "language_counts = merged_df['document_language'].value_counts()\n",
    "\n",
    "# Print het aantal documenten per taal\n",
    "print(\"Aantal documenten per taal:\")\n",
    "print(language_counts)\n",
    "\n",
    "# Als je dit als CSV wilt opslaan\n",
    "# language_counts.to_csv('/home/nena-meijer/PyCharmMiscProject/dataset/VWS/document_language_counts.csv', header=True)\n",
    "\n",
    "print(\"Tellingen van documenttalen opgeslagen als 'document_language_counts.csv'.\")\n",
    "#\n",
    "# # Filter non-Dutch documents\n",
    "# non_dutch_docs = merged_df[merged_df['document_language'] != 'nl'][['document_id']]\n",
    "#\n",
    "# # Opslaan als CSV\n",
    "# non_dutch_docs.to_csv('/home/nena-meijer/PyCharmMiscProject/dataset/VWS/non_dutch_documents.csv', index=False)"
   ],
   "id": "199341be75570d71",
   "outputs": [
    {
     "name": "stdout",
     "output_type": "stream",
     "text": [
      "Aantal documenten per taal:\n",
      "document_language\n",
      "nl         22046\n",
      "en           777\n",
      "lb            11\n",
      "de             7\n",
      "br             5\n",
      "af             4\n",
      "es             3\n",
      "la             3\n",
      "zu             2\n",
      "da             2\n",
      "no             2\n",
      "unknown        2\n",
      "fo             2\n",
      "qu             1\n",
      "cy             1\n",
      "jv             1\n",
      "se             1\n",
      "ro             1\n",
      "an             1\n",
      "sw             1\n",
      "Name: count, dtype: int64\n",
      "Tellingen van documenttalen opgeslagen als 'document_language_counts.csv'.\n"
     ]
    }
   ],
   "execution_count": 2
  },
  {
   "metadata": {
    "ExecuteTime": {
     "end_time": "2025-03-22T09:57:45.524781Z",
     "start_time": "2025-03-22T09:57:41.548789Z"
    }
   },
   "cell_type": "code",
   "source": [
    "import pandas as pd\n",
    "\n",
    "# Laad de dataset\n",
    "file_path = '/home/nena-meijer/PyCharmMiscProject/dataset/VWS/7-VWS_documents_with_language.csv'\n",
    "merged_df = pd.read_csv(file_path)\n",
    "\n",
    "# Filter documenten die niet Nederlands zijn (taal != 'nl')\n",
    "non_dutch_documents = merged_df[merged_df['document_language'] != 'nl']\n",
    "\n",
    "# Selecteer de kolommen 'document_id' en 'document_text'\n",
    "non_dutch_documents = non_dutch_documents[['document_id', 'document_text']]\n",
    "\n",
    "# Sla de gefilterde dataset op als een CSV\n",
    "output_path = '/home/nena-meijer/PyCharmMiscProject/dataset/VWS/non_dutch_documents.csv'\n",
    "non_dutch_documents.to_csv(output_path, index=False)\n",
    "\n",
    "print(\"De documenten die niet Nederlands zijn, zijn opgeslagen als 'non_dutch_documents.csv'.\")\n"
   ],
   "id": "3c5b07981cd39f84",
   "outputs": [
    {
     "name": "stdout",
     "output_type": "stream",
     "text": [
      "De documenten die niet Nederlands zijn, zijn opgeslagen als 'non_dutch_documents.csv'.\n"
     ]
    }
   ],
   "execution_count": 4
  },
  {
   "metadata": {
    "ExecuteTime": {
     "end_time": "2025-03-27T12:48:38.648619Z",
     "start_time": "2025-03-27T12:48:37.984666Z"
    }
   },
   "cell_type": "code",
   "source": [
    "import pandas as pd\n",
    "\n",
    "# CSV inlezen\n",
    "df = pd.read_csv(\"/dataset/VWS_subset/2-VWS_documents_language.csv\")\n",
    "\n",
    "# Rij selecteren waar 'kolomnaam' een bepaalde waarde heeft\n",
    "resultaat = df[df[\"document_language\"] == \"zu\"]\n",
    "\n",
    "resultaat\n"
   ],
   "id": "4b80baf576fe2242",
   "outputs": [
    {
     "data": {
      "text/plain": [
       "      dossier_id document_id               document_title document_type  \\\n",
       "6695         130    130-1807        VWS-WOO-03-289819.pdf           PDF   \n",
       "9452         133     133-844  VWS-WOO-06-100472-Rplot.pdf           PDF   \n",
       "\n",
       "     document_sourcetype document_date  \\\n",
       "6695                 PDF    2020-11-05   \n",
       "9452                 PDF    2020-07-31   \n",
       "\n",
       "                                   document_sourcelocal  \\\n",
       "6695  /home/nena-meijer/PyCharmMiscProject/unpacked_...   \n",
       "9452  /home/nena-meijer/PyCharmMiscProject/unpacked_...   \n",
       "\n",
       "                                     document_sourceURL  document_id_vws  \\\n",
       "6695  https://open.minvws.nl/dossier/VWS-WOO/3289906...         289819.0   \n",
       "9452  https://open.minvws.nl/dossier/VWS-WOO/3339294...         100472.0   \n",
       "\n",
       "                                          document_text  text_length  \\\n",
       "6695  us}se] UEA LUNE\\n\\n002\\nele)\\n009\\n\\nNED, TVaS...         2190   \n",
       "9452  Jeneben\\n\\nass fj\\n\\neweuje UEA Heen\\n\\nSnulAo...          302   \n",
       "\n",
       "     document_attachments document_same_emailconvo document_related  \\\n",
       "6695                 Geen                     Geen             Geen   \n",
       "9452                 Geen                     Geen             Geen   \n",
       "\n",
       "     document_referal document_language  \n",
       "6695             Geen                zu  \n",
       "9452             Geen                zu  "
      ],
      "text/html": [
       "<div>\n",
       "<style scoped>\n",
       "    .dataframe tbody tr th:only-of-type {\n",
       "        vertical-align: middle;\n",
       "    }\n",
       "\n",
       "    .dataframe tbody tr th {\n",
       "        vertical-align: top;\n",
       "    }\n",
       "\n",
       "    .dataframe thead th {\n",
       "        text-align: right;\n",
       "    }\n",
       "</style>\n",
       "<table border=\"1\" class=\"dataframe\">\n",
       "  <thead>\n",
       "    <tr style=\"text-align: right;\">\n",
       "      <th></th>\n",
       "      <th>dossier_id</th>\n",
       "      <th>document_id</th>\n",
       "      <th>document_title</th>\n",
       "      <th>document_type</th>\n",
       "      <th>document_sourcetype</th>\n",
       "      <th>document_date</th>\n",
       "      <th>document_sourcelocal</th>\n",
       "      <th>document_sourceURL</th>\n",
       "      <th>document_id_vws</th>\n",
       "      <th>document_text</th>\n",
       "      <th>text_length</th>\n",
       "      <th>document_attachments</th>\n",
       "      <th>document_same_emailconvo</th>\n",
       "      <th>document_related</th>\n",
       "      <th>document_referal</th>\n",
       "      <th>document_language</th>\n",
       "    </tr>\n",
       "  </thead>\n",
       "  <tbody>\n",
       "    <tr>\n",
       "      <th>6695</th>\n",
       "      <td>130</td>\n",
       "      <td>130-1807</td>\n",
       "      <td>VWS-WOO-03-289819.pdf</td>\n",
       "      <td>PDF</td>\n",
       "      <td>PDF</td>\n",
       "      <td>2020-11-05</td>\n",
       "      <td>/home/nena-meijer/PyCharmMiscProject/unpacked_...</td>\n",
       "      <td>https://open.minvws.nl/dossier/VWS-WOO/3289906...</td>\n",
       "      <td>289819.0</td>\n",
       "      <td>us}se] UEA LUNE\\n\\n002\\nele)\\n009\\n\\nNED, TVaS...</td>\n",
       "      <td>2190</td>\n",
       "      <td>Geen</td>\n",
       "      <td>Geen</td>\n",
       "      <td>Geen</td>\n",
       "      <td>Geen</td>\n",
       "      <td>zu</td>\n",
       "    </tr>\n",
       "    <tr>\n",
       "      <th>9452</th>\n",
       "      <td>133</td>\n",
       "      <td>133-844</td>\n",
       "      <td>VWS-WOO-06-100472-Rplot.pdf</td>\n",
       "      <td>PDF</td>\n",
       "      <td>PDF</td>\n",
       "      <td>2020-07-31</td>\n",
       "      <td>/home/nena-meijer/PyCharmMiscProject/unpacked_...</td>\n",
       "      <td>https://open.minvws.nl/dossier/VWS-WOO/3339294...</td>\n",
       "      <td>100472.0</td>\n",
       "      <td>Jeneben\\n\\nass fj\\n\\neweuje UEA Heen\\n\\nSnulAo...</td>\n",
       "      <td>302</td>\n",
       "      <td>Geen</td>\n",
       "      <td>Geen</td>\n",
       "      <td>Geen</td>\n",
       "      <td>Geen</td>\n",
       "      <td>zu</td>\n",
       "    </tr>\n",
       "  </tbody>\n",
       "</table>\n",
       "</div>"
      ]
     },
     "execution_count": 8,
     "metadata": {},
     "output_type": "execute_result"
    }
   ],
   "execution_count": 8
  },
  {
   "metadata": {},
   "cell_type": "code",
   "outputs": [],
   "execution_count": null,
   "source": "",
   "id": "9ead6775a81fccd8"
  }
 ],
 "metadata": {
  "kernelspec": {
   "display_name": "Python 3",
   "language": "python",
   "name": "python3"
  },
  "language_info": {
   "codemirror_mode": {
    "name": "ipython",
    "version": 2
   },
   "file_extension": ".py",
   "mimetype": "text/x-python",
   "name": "python",
   "nbconvert_exporter": "python",
   "pygments_lexer": "ipython2",
   "version": "2.7.6"
  }
 },
 "nbformat": 4,
 "nbformat_minor": 5
}
