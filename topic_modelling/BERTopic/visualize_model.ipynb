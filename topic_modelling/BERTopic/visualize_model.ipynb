{
 "cells": [
  {
   "metadata": {},
   "cell_type": "markdown",
   "source": "# Visualize the trained model",
   "id": "da850945ea21bcac"
  },
  {
   "metadata": {},
   "cell_type": "markdown",
   "source": "#### Load the model",
   "id": "acbbf9b59d93054e"
  },
  {
   "metadata": {},
   "cell_type": "code",
   "source": [
    "from bertopic import BERTopic\n",
    "from sentence_transformers import SentenceTransformer\n",
    "\n",
    "model_dir =\"/home/nena-meijer/PyCharmMiscProject/topic_modelling/models/model_basic_chunks_reduced_outliers\"\n",
    "model_name = \"intfloat/multilingual-e5-large-instruct\"\n",
    "embedding_model = SentenceTransformer(model_name)\n",
    "\n",
    "topic_model = BERTopic.load(model_dir, embedding_model=embedding_model)"
   ],
   "id": "7d1d2bfb331ac5dd",
   "outputs": [],
   "execution_count": null
  },
  {
   "metadata": {},
   "cell_type": "markdown",
   "source": "#### Load the docs/chunks/embeddings",
   "id": "d0dd61195391b514"
  },
  {
   "metadata": {},
   "cell_type": "code",
   "source": [
    "import pickle\n",
    "\n",
    "embeddings_file = \"/home/nena-meijer/PyCharmMiscProject/topic_modelling/embeddings/embeddings_documents_chunks_normalized.pkl\"\n",
    "chunks_file = \"/home/nena-meijer/PyCharmMiscProject/topic_modelling/chunks/chunks_decoded.pkl\"\n",
    "\n",
    "with open(chunks_file, 'rb') as f:\n",
    "    chunks = pickle.load(f)\n",
    "\n",
    "with open(embeddings_file, 'rb') as f:\n",
    "    embeddings = pickle.load(f)\n",
    "\n",
    "print(\"Chunks geladen: lengte: \", len(chunks))\n",
    "print(\"Embeddings geladen: lengte: \", len(embeddings))"
   ],
   "id": "fc4bf6791ca5788c",
   "outputs": [],
   "execution_count": null
  },
  {
   "metadata": {},
   "cell_type": "markdown",
   "source": "#### Reduce embeddings to speed up some figures",
   "id": "569b252945b0c454"
  },
  {
   "metadata": {},
   "cell_type": "code",
   "source": [
    "from cuml import UMAP\n",
    "\n",
    "reduced_embeddings = UMAP(n_neighbors=10, n_components=2, min_dist=0.0, metric='cosine').fit_transform(embeddings)\n",
    "print(\"Embeddings gereduceerd: lengte: \", len(reduced_embeddings))"
   ],
   "id": "2d10f0d24c41293e",
   "outputs": [],
   "execution_count": null
  },
  {
   "metadata": {},
   "cell_type": "markdown",
   "source": "#### Topic information",
   "id": "bc3688ca52b26009"
  },
  {
   "metadata": {},
   "cell_type": "code",
   "source": "topic_model.get_topic_info()",
   "id": "5c13cae700266a13",
   "outputs": [],
   "execution_count": null
  },
  {
   "metadata": {},
   "cell_type": "markdown",
   "source": "#### Visualize topics",
   "id": "f11314d36f333cf4"
  },
  {
   "metadata": {},
   "cell_type": "code",
   "source": [
    "fig_intertopic_distance_map = topic_model.visualize_topics()\n",
    "display(fig_intertopic_distance_map)"
   ],
   "id": "ee12fbd228ef399c",
   "outputs": [],
   "execution_count": null
  },
  {
   "metadata": {},
   "cell_type": "code",
   "source": [
    "fig_barchart_topics = topic_model.visualize_barchart()\n",
    "display(fig_barchart_topics)"
   ],
   "id": "14f0a11e088ef6",
   "outputs": [],
   "execution_count": null
  },
  {
   "metadata": {},
   "cell_type": "code",
   "source": [
    "fig_datamap = topic_model.visualize_document_datamap(chunks, reduced_embeddings=reduced_embeddings, interactive=False)\n",
    "display(fig_datamap)"
   ],
   "id": "9cf75d0cdb0f7840",
   "outputs": [],
   "execution_count": null
  },
  {
   "metadata": {},
   "cell_type": "markdown",
   "source": "#### Visualize documents",
   "id": "3747870ce7218983"
  },
  {
   "metadata": {},
   "cell_type": "code",
   "source": [
    "fig_document_clusters = topic_model.visualize_documents(chunks, reduced_embeddings=reduced_embeddings, hide_document_hover=True, hide_annotations=True)\n",
    "display(fig_document_clusters)"
   ],
   "id": "3b8dc867021804b7",
   "outputs": [],
   "execution_count": null
  },
  {
   "metadata": {},
   "cell_type": "markdown",
   "source": "#### Save all visualisations in the same directory as the model",
   "id": "159e347053f34c5d"
  },
  {
   "metadata": {},
   "cell_type": "code",
   "source": [
    "output_dir = model_dir + \"/visualisations\"\n",
    "\n",
    "fig_intertopic_distance_map.write_html(f\"{output_dir}/intertopic_distance_map.html\")\n",
    "fig_barchart_topics.write_html(f\"{output_dir}/barchart_topics.html\")\n",
    "fig_document_clusters.write_html(f\"{output_dir}/document_clusters.html\")\n",
    "fig_datamap.savefig(f\"{output_dir}/datamap.png\", bbox_inches=\"tight\", dpi=600)"
   ],
   "id": "e61b7f4a00dfdcac",
   "outputs": [],
   "execution_count": null
  }
 ],
 "metadata": {
  "kernelspec": {
   "display_name": "Python 3",
   "language": "python",
   "name": "python3"
  },
  "language_info": {
   "codemirror_mode": {
    "name": "ipython",
    "version": 2
   },
   "file_extension": ".py",
   "mimetype": "text/x-python",
   "name": "python",
   "nbconvert_exporter": "python",
   "pygments_lexer": "ipython2",
   "version": "2.7.6"
  }
 },
 "nbformat": 4,
 "nbformat_minor": 5
}
